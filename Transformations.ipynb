{
 "cells": [
  {
   "cell_type": "markdown",
   "metadata": {
    "application/vnd.databricks.v1+cell": {
     "cellMetadata": {
      "byteLimit": 2048000,
      "rowLimit": 10000
     },
     "inputWidgets": {},
     "nuid": "a001b0a7-f59d-4449-9121-a777108b956a",
     "showTitle": false,
     "title": ""
    }
   },
   "source": [
    "Inspired by a wonderful Pluralsight learning Getting Started with Apache Spark on Databricks of Janavi Ravi, I have made a number of transformations using the data taken from https://www.kaggle.com/datasets/yaranathakur/largest-companies-in-the-united-states-by-revenue. The data concerns the largest companies in the United States by revenue, based on the 2022 Fortune 500 rankings."
   ]
  },
  {
   "cell_type": "markdown",
   "metadata": {
    "application/vnd.databricks.v1+cell": {
     "cellMetadata": {
      "byteLimit": 2048000,
      "rowLimit": 10000
     },
     "inputWidgets": {},
     "nuid": "28b18412-565b-462a-b008-89aa8b87ed06",
     "showTitle": false,
     "title": ""
    }
   },
   "source": [
    "reading the csv file and writing it to the data frame"
   ]
  },
  {
   "cell_type": "code",
   "execution_count": 0,
   "metadata": {
    "application/vnd.databricks.v1+cell": {
     "cellMetadata": {
      "byteLimit": 2048000,
      "rowLimit": 10000
     },
     "inputWidgets": {},
     "nuid": "9d09feb9-f20a-4bfe-811c-56a1485bb1cc",
     "showTitle": false,
     "title": ""
    }
   },
   "outputs": [],
   "source": [
    "mydf = spark.read.format('csv')\\\n",
    "        .option(\"inferSchema\", \"True\")\\\n",
    "        .option(\"header\", \"True\")\\\n",
    "        .option(\"sep\", \",\")\\\n",
    "        .load(\"dbfs:/FileStore/files/LargestCompaniesInUSAbyReveneue.csv\")"
   ]
  },
  {
   "cell_type": "markdown",
   "metadata": {
    "application/vnd.databricks.v1+cell": {
     "cellMetadata": {
      "byteLimit": 2048000,
      "rowLimit": 10000
     },
     "inputWidgets": {},
     "nuid": "1bdf2790-d760-40a7-801e-c997a6c88e5e",
     "showTitle": false,
     "title": ""
    }
   },
   "source": [
    "showing how the data frame looks like"
   ]
  },
  {
   "cell_type": "code",
   "execution_count": 0,
   "metadata": {
    "application/vnd.databricks.v1+cell": {
     "cellMetadata": {
      "byteLimit": 2048000,
      "rowLimit": 10000
     },
     "inputWidgets": {},
     "nuid": "d111a477-36ad-42fa-a2fa-5e8666619fc9",
     "showTitle": false,
     "title": ""
    }
   },
   "outputs": [
    {
     "output_type": "stream",
     "name": "stdout",
     "output_type": "stream",
     "text": [
      "+----+--------------------+--------------------+----------------------+--------------+---------+--------------------+\n|Rank|                Name|            Industry|Revenue (USD millions)|Revenue growth|Employees|        Headquarters|\n+----+--------------------+--------------------+----------------------+--------------+---------+--------------------+\n|   1|             Walmart|General merchandi...|               572,754|          2.4%|2,300,000|Bentonville, Arka...|\n|   2|              Amazon|Retail and Cloud ...|               469,822|         21.7%|1,608,000| Seattle, Washington|\n|   3|               Apple|Electronics industry|               365,817|         33.2%|  154,000|Cupertino, Califo...|\n|   4|          CVS Health|          Healthcare|               292,111|         32.0%|  258,000|Woonsocket, Rhode...|\n|   5|  UnitedHealth Group|          Healthcare|               287,597|         11.8%|  350,000|Minnetonka, Minne...|\n|   6|         Exxon Mobil|  Petroleum industry|               285,640|         57.4%|   63,000|       Spring, Texas|\n|   7|  Berkshire Hathaway|        Conglomerate|               276,094|         12.5%|  372,000|     Omaha, Nebraska|\n|   8|            Alphabet|          Technology|               257,637|         41.2%|  156,000|Mountain View, Ca...|\n|   9|McKesson Corporation|              Health|               238,228|          3.1%|   67,500|       Irving, Texas|\n|  10|   AmerisourceBergen|Pharmaceutical in...|               213,989|         12.7%|   40,000|Chesterbrook, Pen...|\n|  11|           Microsoft|          Technology|               198,087|         17.5%|  181,000| Redmond, Washington|\n|  12|              Costco|              Retail|               195,929|         17.5%|  288,000|Issaquah, Washington|\n|  13|               Cigna|    Health Insurance|               174,078|          8.5%|   72,963|Bloomfield, Conne...|\n|  14|                AT&T|        Conglomerate|               168,864|          1.7%|  202,600|       Dallas, Texas|\n|  15|     Cardinal Health|          Healthcare|               162,467|          6.2%|   46,827|        Dublin, Ohio|\n|  16| Chevron Corporation|  Petroleum industry|               162,465|         71.6%|   42,595|San Ramon, Califo...|\n|  17|      The Home Depot|              Retail|               151,157|         14.4%|  490,600|    Atlanta, Georgia|\n|  18|Walgreens Boots A...|Pharmaceutical in...|               148,579|          6.5%|  258,500| Deerfield, Illinois|\n|  19|  Marathon Petroleum|  Petroleum industry|               141,032|         58.5%|   17,700|       Findlay, Ohio|\n|  20|     Elevance Health|          Healthcare|               138,639|         13.8%|   98,200|Indianapolis, Ind...|\n+----+--------------------+--------------------+----------------------+--------------+---------+--------------------+\nonly showing top 20 rows\n\n"
     ]
    }
   ],
   "source": [
    "mydf.show()"
   ]
  },
  {
   "cell_type": "markdown",
   "metadata": {
    "application/vnd.databricks.v1+cell": {
     "cellMetadata": {
      "byteLimit": 2048000,
      "rowLimit": 10000
     },
     "inputWidgets": {},
     "nuid": "d96bd216-d4e4-4727-8e9e-c68a2729cdd1",
     "showTitle": false,
     "title": ""
    }
   },
   "source": [
    "verifying the schema data types (to use some data to make calculations, data types should be numeric)"
   ]
  },
  {
   "cell_type": "code",
   "execution_count": 0,
   "metadata": {
    "application/vnd.databricks.v1+cell": {
     "cellMetadata": {
      "byteLimit": 2048000,
      "rowLimit": 10000
     },
     "inputWidgets": {},
     "nuid": "e64a76cb-3a95-403b-8119-fd1790b09693",
     "showTitle": false,
     "title": ""
    }
   },
   "outputs": [
    {
     "output_type": "stream",
     "name": "stdout",
     "output_type": "stream",
     "text": [
      "root\n |-- Rank: integer (nullable = true)\n |-- Name: string (nullable = true)\n |-- Industry: string (nullable = true)\n |-- Revenue (USD millions): string (nullable = true)\n |-- Revenue growth: string (nullable = true)\n |-- Employees: string (nullable = true)\n |-- Headquarters: string (nullable = true)\n\n"
     ]
    }
   ],
   "source": [
    "mydf.printSchema()"
   ]
  },
  {
   "cell_type": "markdown",
   "metadata": {
    "application/vnd.databricks.v1+cell": {
     "cellMetadata": {
      "byteLimit": 2048000,
      "rowLimit": 10000
     },
     "inputWidgets": {},
     "nuid": "52b46fe8-d2a6-42c0-b070-cf44c3f014ba",
     "showTitle": false,
     "title": ""
    }
   },
   "source": [
    "converting \"Revenue (USD millions)\", \"Revenue growth\" and \"Employees\" column data from string to integer"
   ]
  },
  {
   "cell_type": "code",
   "execution_count": 0,
   "metadata": {
    "application/vnd.databricks.v1+cell": {
     "cellMetadata": {
      "byteLimit": 2048000,
      "rowLimit": 10000
     },
     "inputWidgets": {},
     "nuid": "6d66d7d5-05c3-4f0f-be22-25723735826e",
     "showTitle": false,
     "title": ""
    }
   },
   "outputs": [],
   "source": [
    "from pyspark.sql.functions import regexp_replace"
   ]
  },
  {
   "cell_type": "code",
   "execution_count": 0,
   "metadata": {
    "application/vnd.databricks.v1+cell": {
     "cellMetadata": {
      "byteLimit": 2048000,
      "rowLimit": 10000
     },
     "inputWidgets": {},
     "nuid": "b1413025-76b6-402b-ab70-fc60629902a3",
     "showTitle": false,
     "title": ""
    }
   },
   "outputs": [],
   "source": [
    "mydf = mydf.withColumn(\"Revenue (USD millions)\",regexp_replace(\"Revenue (USD millions)\", \",\",\"\").cast('int'))"
   ]
  },
  {
   "cell_type": "code",
   "execution_count": 0,
   "metadata": {
    "application/vnd.databricks.v1+cell": {
     "cellMetadata": {
      "byteLimit": 2048000,
      "rowLimit": 10000
     },
     "inputWidgets": {},
     "nuid": "7433fbde-e9ed-4a44-adc0-69e3d5a1978f",
     "showTitle": false,
     "title": ""
    }
   },
   "outputs": [
    {
     "output_type": "stream",
     "name": "stdout",
     "output_type": "stream",
     "text": [
      "+----+--------------------+--------------------+----------------------+--------------+---------+--------------------+\n|Rank|                Name|            Industry|Revenue (USD millions)|Revenue growth|Employees|        Headquarters|\n+----+--------------------+--------------------+----------------------+--------------+---------+--------------------+\n|   1|             Walmart|General merchandi...|                572754|          2.4%|2,300,000|Bentonville, Arka...|\n|   2|              Amazon|Retail and Cloud ...|                469822|         21.7%|1,608,000| Seattle, Washington|\n|   3|               Apple|Electronics industry|                365817|         33.2%|  154,000|Cupertino, Califo...|\n|   4|          CVS Health|          Healthcare|                292111|         32.0%|  258,000|Woonsocket, Rhode...|\n|   5|  UnitedHealth Group|          Healthcare|                287597|         11.8%|  350,000|Minnetonka, Minne...|\n|   6|         Exxon Mobil|  Petroleum industry|                285640|         57.4%|   63,000|       Spring, Texas|\n|   7|  Berkshire Hathaway|        Conglomerate|                276094|         12.5%|  372,000|     Omaha, Nebraska|\n|   8|            Alphabet|          Technology|                257637|         41.2%|  156,000|Mountain View, Ca...|\n|   9|McKesson Corporation|              Health|                238228|          3.1%|   67,500|       Irving, Texas|\n|  10|   AmerisourceBergen|Pharmaceutical in...|                213989|         12.7%|   40,000|Chesterbrook, Pen...|\n|  11|           Microsoft|          Technology|                198087|         17.5%|  181,000| Redmond, Washington|\n|  12|              Costco|              Retail|                195929|         17.5%|  288,000|Issaquah, Washington|\n|  13|               Cigna|    Health Insurance|                174078|          8.5%|   72,963|Bloomfield, Conne...|\n|  14|                AT&T|        Conglomerate|                168864|          1.7%|  202,600|       Dallas, Texas|\n|  15|     Cardinal Health|          Healthcare|                162467|          6.2%|   46,827|        Dublin, Ohio|\n|  16| Chevron Corporation|  Petroleum industry|                162465|         71.6%|   42,595|San Ramon, Califo...|\n|  17|      The Home Depot|              Retail|                151157|         14.4%|  490,600|    Atlanta, Georgia|\n|  18|Walgreens Boots A...|Pharmaceutical in...|                148579|          6.5%|  258,500| Deerfield, Illinois|\n|  19|  Marathon Petroleum|  Petroleum industry|                141032|         58.5%|   17,700|       Findlay, Ohio|\n|  20|     Elevance Health|          Healthcare|                138639|         13.8%|   98,200|Indianapolis, Ind...|\n+----+--------------------+--------------------+----------------------+--------------+---------+--------------------+\nonly showing top 20 rows\n\n"
     ]
    }
   ],
   "source": [
    "mydf.show()"
   ]
  },
  {
   "cell_type": "code",
   "execution_count": 0,
   "metadata": {
    "application/vnd.databricks.v1+cell": {
     "cellMetadata": {
      "byteLimit": 2048000,
      "rowLimit": 10000
     },
     "inputWidgets": {},
     "nuid": "83f2a9d1-6d61-4abc-9cda-3eb1dab38491",
     "showTitle": false,
     "title": ""
    }
   },
   "outputs": [],
   "source": [
    "mydf = mydf.withColumn(\"Revenue growth\",regexp_replace(\"Revenue growth\", \"%\",\"\").cast('double'))"
   ]
  },
  {
   "cell_type": "code",
   "execution_count": 0,
   "metadata": {
    "application/vnd.databricks.v1+cell": {
     "cellMetadata": {
      "byteLimit": 2048000,
      "rowLimit": 10000
     },
     "inputWidgets": {},
     "nuid": "d754eddb-d696-4f40-a294-396850ad90ab",
     "showTitle": false,
     "title": ""
    }
   },
   "outputs": [
    {
     "output_type": "stream",
     "name": "stdout",
     "output_type": "stream",
     "text": [
      "+----+--------------------+--------------------+----------------------+--------------+---------+--------------------+\n|Rank|                Name|            Industry|Revenue (USD millions)|Revenue growth|Employees|        Headquarters|\n+----+--------------------+--------------------+----------------------+--------------+---------+--------------------+\n|   1|             Walmart|General merchandi...|                572754|           2.4|2,300,000|Bentonville, Arka...|\n|   2|              Amazon|Retail and Cloud ...|                469822|          21.7|1,608,000| Seattle, Washington|\n|   3|               Apple|Electronics industry|                365817|          33.2|  154,000|Cupertino, Califo...|\n|   4|          CVS Health|          Healthcare|                292111|          32.0|  258,000|Woonsocket, Rhode...|\n|   5|  UnitedHealth Group|          Healthcare|                287597|          11.8|  350,000|Minnetonka, Minne...|\n|   6|         Exxon Mobil|  Petroleum industry|                285640|          57.4|   63,000|       Spring, Texas|\n|   7|  Berkshire Hathaway|        Conglomerate|                276094|          12.5|  372,000|     Omaha, Nebraska|\n|   8|            Alphabet|          Technology|                257637|          41.2|  156,000|Mountain View, Ca...|\n|   9|McKesson Corporation|              Health|                238228|           3.1|   67,500|       Irving, Texas|\n|  10|   AmerisourceBergen|Pharmaceutical in...|                213989|          12.7|   40,000|Chesterbrook, Pen...|\n|  11|           Microsoft|          Technology|                198087|          17.5|  181,000| Redmond, Washington|\n|  12|              Costco|              Retail|                195929|          17.5|  288,000|Issaquah, Washington|\n|  13|               Cigna|    Health Insurance|                174078|           8.5|   72,963|Bloomfield, Conne...|\n|  14|                AT&T|        Conglomerate|                168864|           1.7|  202,600|       Dallas, Texas|\n|  15|     Cardinal Health|          Healthcare|                162467|           6.2|   46,827|        Dublin, Ohio|\n|  16| Chevron Corporation|  Petroleum industry|                162465|          71.6|   42,595|San Ramon, Califo...|\n|  17|      The Home Depot|              Retail|                151157|          14.4|  490,600|    Atlanta, Georgia|\n|  18|Walgreens Boots A...|Pharmaceutical in...|                148579|           6.5|  258,500| Deerfield, Illinois|\n|  19|  Marathon Petroleum|  Petroleum industry|                141032|          58.5|   17,700|       Findlay, Ohio|\n|  20|     Elevance Health|          Healthcare|                138639|          13.8|   98,200|Indianapolis, Ind...|\n+----+--------------------+--------------------+----------------------+--------------+---------+--------------------+\nonly showing top 20 rows\n\n"
     ]
    }
   ],
   "source": [
    "mydf.show()"
   ]
  },
  {
   "cell_type": "code",
   "execution_count": 0,
   "metadata": {
    "application/vnd.databricks.v1+cell": {
     "cellMetadata": {
      "byteLimit": 2048000,
      "rowLimit": 10000
     },
     "inputWidgets": {},
     "nuid": "d6963543-9a3e-46c3-86c3-fe7fa60624fd",
     "showTitle": false,
     "title": ""
    }
   },
   "outputs": [],
   "source": [
    "mydf = mydf.withColumn(\"Employees\",regexp_replace(\"Employees\", \",\",\"\").cast('int'))"
   ]
  },
  {
   "cell_type": "code",
   "execution_count": 0,
   "metadata": {
    "application/vnd.databricks.v1+cell": {
     "cellMetadata": {
      "byteLimit": 2048000,
      "rowLimit": 10000
     },
     "inputWidgets": {},
     "nuid": "041f65ff-41dc-446c-80d5-de40db79d8c2",
     "showTitle": false,
     "title": ""
    }
   },
   "outputs": [
    {
     "output_type": "stream",
     "name": "stdout",
     "output_type": "stream",
     "text": [
      "+----+--------------------+--------------------+----------------------+--------------+---------+--------------------+\n|Rank|                Name|            Industry|Revenue (USD millions)|Revenue growth|Employees|        Headquarters|\n+----+--------------------+--------------------+----------------------+--------------+---------+--------------------+\n|   1|             Walmart|General merchandi...|                572754|           2.4|  2300000|Bentonville, Arka...|\n|   2|              Amazon|Retail and Cloud ...|                469822|          21.7|  1608000| Seattle, Washington|\n|   3|               Apple|Electronics industry|                365817|          33.2|   154000|Cupertino, Califo...|\n|   4|          CVS Health|          Healthcare|                292111|          32.0|   258000|Woonsocket, Rhode...|\n|   5|  UnitedHealth Group|          Healthcare|                287597|          11.8|   350000|Minnetonka, Minne...|\n|   6|         Exxon Mobil|  Petroleum industry|                285640|          57.4|    63000|       Spring, Texas|\n|   7|  Berkshire Hathaway|        Conglomerate|                276094|          12.5|   372000|     Omaha, Nebraska|\n|   8|            Alphabet|          Technology|                257637|          41.2|   156000|Mountain View, Ca...|\n|   9|McKesson Corporation|              Health|                238228|           3.1|    67500|       Irving, Texas|\n|  10|   AmerisourceBergen|Pharmaceutical in...|                213989|          12.7|    40000|Chesterbrook, Pen...|\n|  11|           Microsoft|          Technology|                198087|          17.5|   181000| Redmond, Washington|\n|  12|              Costco|              Retail|                195929|          17.5|   288000|Issaquah, Washington|\n|  13|               Cigna|    Health Insurance|                174078|           8.5|    72963|Bloomfield, Conne...|\n|  14|                AT&T|        Conglomerate|                168864|           1.7|   202600|       Dallas, Texas|\n|  15|     Cardinal Health|          Healthcare|                162467|           6.2|    46827|        Dublin, Ohio|\n|  16| Chevron Corporation|  Petroleum industry|                162465|          71.6|    42595|San Ramon, Califo...|\n|  17|      The Home Depot|              Retail|                151157|          14.4|   490600|    Atlanta, Georgia|\n|  18|Walgreens Boots A...|Pharmaceutical in...|                148579|           6.5|   258500| Deerfield, Illinois|\n|  19|  Marathon Petroleum|  Petroleum industry|                141032|          58.5|    17700|       Findlay, Ohio|\n|  20|     Elevance Health|          Healthcare|                138639|          13.8|    98200|Indianapolis, Ind...|\n+----+--------------------+--------------------+----------------------+--------------+---------+--------------------+\nonly showing top 20 rows\n\n"
     ]
    }
   ],
   "source": [
    "mydf.show()"
   ]
  },
  {
   "cell_type": "markdown",
   "metadata": {
    "application/vnd.databricks.v1+cell": {
     "cellMetadata": {
      "byteLimit": 2048000,
      "rowLimit": 10000
     },
     "inputWidgets": {},
     "nuid": "f364726c-27f4-41bf-8cdc-55491bb9543b",
     "showTitle": false,
     "title": ""
    }
   },
   "source": [
    "verifying if some data types are ready to calculate"
   ]
  },
  {
   "cell_type": "code",
   "execution_count": 0,
   "metadata": {
    "application/vnd.databricks.v1+cell": {
     "cellMetadata": {
      "byteLimit": 2048000,
      "rowLimit": 10000
     },
     "inputWidgets": {},
     "nuid": "279f0b55-6ac1-4d3f-befe-1cb0dc3ec473",
     "showTitle": false,
     "title": ""
    }
   },
   "outputs": [
    {
     "output_type": "stream",
     "name": "stdout",
     "output_type": "stream",
     "text": [
      "root\n |-- Rank: integer (nullable = true)\n |-- Name: string (nullable = true)\n |-- Industry: string (nullable = true)\n |-- Revenue (USD millions): integer (nullable = true)\n |-- Revenue growth: double (nullable = true)\n |-- Employees: integer (nullable = true)\n |-- Headquarters: string (nullable = true)\n\n"
     ]
    }
   ],
   "source": [
    "mydf.printSchema()"
   ]
  },
  {
   "cell_type": "markdown",
   "metadata": {
    "application/vnd.databricks.v1+cell": {
     "cellMetadata": {
      "byteLimit": 2048000,
      "rowLimit": 10000
     },
     "inputWidgets": {},
     "nuid": "c5cfb25b-cb76-40af-a5e5-32232a3e223e",
     "showTitle": false,
     "title": ""
    }
   },
   "source": [
    "showing the companies with the revenue > 200000"
   ]
  },
  {
   "cell_type": "code",
   "execution_count": 0,
   "metadata": {
    "application/vnd.databricks.v1+cell": {
     "cellMetadata": {
      "byteLimit": 2048000,
      "rowLimit": 10000
     },
     "inputWidgets": {},
     "nuid": "19e10cf4-b3e1-4ced-b121-804e943c4b12",
     "showTitle": false,
     "title": ""
    }
   },
   "outputs": [
    {
     "output_type": "stream",
     "name": "stdout",
     "output_type": "stream",
     "text": [
      "+--------------------+----------------------+\n|                Name|Revenue (USD millions)|\n+--------------------+----------------------+\n|             Walmart|                572754|\n|              Amazon|                469822|\n|               Apple|                365817|\n|          CVS Health|                292111|\n|  UnitedHealth Group|                287597|\n|         Exxon Mobil|                285640|\n|  Berkshire Hathaway|                276094|\n|            Alphabet|                257637|\n|McKesson Corporation|                238228|\n|   AmerisourceBergen|                213989|\n+--------------------+----------------------+\n\n"
     ]
    }
   ],
   "source": [
    "mydf.select('Name', 'Revenue (USD millions)').where(mydf['Revenue (USD millions)'] > 200000).show()"
   ]
  },
  {
   "cell_type": "markdown",
   "metadata": {
    "application/vnd.databricks.v1+cell": {
     "cellMetadata": {
      "byteLimit": 2048000,
      "rowLimit": 10000
     },
     "inputWidgets": {},
     "nuid": "3b718ca2-ce0d-445f-83ef-52b0a62bedec",
     "showTitle": false,
     "title": ""
    }
   },
   "source": [
    "showing the companies specializing in technology"
   ]
  },
  {
   "cell_type": "code",
   "execution_count": 0,
   "metadata": {
    "application/vnd.databricks.v1+cell": {
     "cellMetadata": {
      "byteLimit": 2048000,
      "rowLimit": 10000
     },
     "inputWidgets": {},
     "nuid": "6f5aed57-2729-4beb-9d69-05ec83f79207",
     "showTitle": false,
     "title": ""
    }
   },
   "outputs": [
    {
     "output_type": "stream",
     "name": "stdout",
     "output_type": "stream",
     "text": [
      "+-----------------+----------------------+--------------------+\n|             Name|Revenue (USD millions)|        Headquarters|\n+-----------------+----------------------+--------------------+\n|         Alphabet|                257637|Mountain View, Ca...|\n|        Microsoft|                198087| Redmond, Washington|\n|   Meta Platforms|                117385|Menlo Park, Calif...|\n|Dell Technologies|                106995|   Round Rock, Texas|\n|            Intel|                 79024|Santa Clara, Cali...|\n|              IBM|                 72344|    Armonk, New York|\n|               HP|                 63487|Palo Alto, Califo...|\n+-----------------+----------------------+--------------------+\n\n"
     ]
    }
   ],
   "source": [
    "mydf.select('Name', 'Revenue (USD millions)', 'Headquarters').filter(mydf['Industry'].isin(['Technology'])).show()"
   ]
  },
  {
   "cell_type": "markdown",
   "metadata": {
    "application/vnd.databricks.v1+cell": {
     "cellMetadata": {
      "byteLimit": 2048000,
      "rowLimit": 10000
     },
     "inputWidgets": {},
     "nuid": "ad08b7f4-5d61-4a7c-a2ce-069c031fb325",
     "showTitle": false,
     "title": ""
    }
   },
   "source": [
    "showing the number of companies by industry"
   ]
  },
  {
   "cell_type": "code",
   "execution_count": 0,
   "metadata": {
    "application/vnd.databricks.v1+cell": {
     "cellMetadata": {
      "byteLimit": 2048000,
      "rowLimit": 10000
     },
     "inputWidgets": {},
     "nuid": "0cd880ca-cc03-45e6-9427-18d7559e3887",
     "showTitle": false,
     "title": ""
    }
   },
   "outputs": [
    {
     "output_type": "stream",
     "name": "stdout",
     "output_type": "stream",
     "text": [
      "+--------------------+-----+\n|            Industry|count|\n+--------------------+-----+\n|General merchandi...|    1|\n|Aerospace and Def...|    1|\n|           Insurance|    7|\n|Automotive and En...|    1|\n|          Healthcare|    6|\n|  Financial services|    1|\n|           Machinery|    1|\n|              Metals|    1|\n|Consumer products...|    1|\n|              Health|    1|\n|Telecom Hardware ...|    1|\n|             Apparel|    1|\n|Airspace and defense|    1|\n|               Media|    1|\n|  Petroleum industry|    9|\n|       Food industry|    1|\n|          Automotive|    1|\n|        Conglomerate|    4|\n|Agriculture coope...|    1|\n|           Beverages|    1|\n+--------------------+-----+\nonly showing top 20 rows\n\n"
     ]
    }
   ],
   "source": [
    "mydf.groupBy('Industry').count().show()"
   ]
  },
  {
   "cell_type": "markdown",
   "metadata": {
    "application/vnd.databricks.v1+cell": {
     "cellMetadata": {
      "byteLimit": 2048000,
      "rowLimit": 10000
     },
     "inputWidgets": {},
     "nuid": "d1ffdf67-4738-4fa1-913c-975079a35b3e",
     "showTitle": false,
     "title": ""
    }
   },
   "source": [
    "showing the companies revenue grouped by industry"
   ]
  },
  {
   "cell_type": "code",
   "execution_count": 0,
   "metadata": {
    "application/vnd.databricks.v1+cell": {
     "cellMetadata": {
      "byteLimit": 2048000,
      "rowLimit": 10000
     },
     "inputWidgets": {},
     "nuid": "0db71bcd-8671-4bda-8565-4cac91cadd59",
     "showTitle": false,
     "title": ""
    }
   },
   "outputs": [
    {
     "output_type": "stream",
     "name": "stdout",
     "output_type": "stream",
     "text": [
      "+--------------------+---------------------------+\n|            Industry|sum(Revenue (USD millions))|\n+--------------------+---------------------------+\n|General merchandi...|                     572754|\n|Aerospace and Def...|                      67044|\n|           Insurance|                     329663|\n|Automotive and En...|                      53823|\n|          Healthcare|                    1065548|\n|  Financial services|                     127202|\n|           Machinery|                      50971|\n|              Metals|                      36484|\n|Consumer products...|                      76118|\n|              Health|                     238228|\n|Telecom Hardware ...|                      49818|\n|             Apparel|                      44538|\n|Airspace and defense|                      38469|\n|               Media|                      67418|\n|  Petroleum industry|                    1010973|\n|       Food industry|                      85959|\n|          Automotive|                     127004|\n|        Conglomerate|                     583542|\n|Agriculture coope...|                      38448|\n|           Beverages|                      38655|\n+--------------------+---------------------------+\nonly showing top 20 rows\n\n"
     ]
    }
   ],
   "source": [
    "mydf.groupBy('Industry').agg({'Revenue (USD millions)':'sum'}).show()"
   ]
  },
  {
   "cell_type": "markdown",
   "metadata": {
    "application/vnd.databricks.v1+cell": {
     "cellMetadata": {
      "byteLimit": 2048000,
      "rowLimit": 10000
     },
     "inputWidgets": {},
     "nuid": "8c11fcfb-bde0-46b9-8ecc-d4bf5488b4f6",
     "showTitle": false,
     "title": ""
    }
   },
   "source": [
    "showing the top ten companies by revenue"
   ]
  },
  {
   "cell_type": "code",
   "execution_count": 0,
   "metadata": {
    "application/vnd.databricks.v1+cell": {
     "cellMetadata": {
      "byteLimit": 2048000,
      "rowLimit": 10000
     },
     "inputWidgets": {},
     "nuid": "0059d0f4-c436-4071-955c-e5be96bc6143",
     "showTitle": false,
     "title": ""
    }
   },
   "outputs": [],
   "source": [
    "mydf_aggr = mydf.groupBy('Industry').agg({'Revenue (USD millions)':'sum'})\n"
   ]
  },
  {
   "cell_type": "code",
   "execution_count": 0,
   "metadata": {
    "application/vnd.databricks.v1+cell": {
     "cellMetadata": {
      "byteLimit": 2048000,
      "rowLimit": 10000
     },
     "inputWidgets": {},
     "nuid": "2a436928-9c39-4fd5-a5ba-1bc64958411d",
     "showTitle": false,
     "title": ""
    }
   },
   "outputs": [
    {
     "output_type": "stream",
     "name": "stdout",
     "output_type": "stream",
     "text": [
      "root\n |-- Industry: string (nullable = true)\n |-- sum(Revenue (USD millions)): long (nullable = true)\n\n"
     ]
    }
   ],
   "source": [
    "mydf_aggr.printSchema()"
   ]
  },
  {
   "cell_type": "code",
   "execution_count": 0,
   "metadata": {
    "application/vnd.databricks.v1+cell": {
     "cellMetadata": {
      "byteLimit": 2048000,
      "rowLimit": 10000
     },
     "inputWidgets": {},
     "nuid": "53160f4a-361b-4d1e-8f1f-aeaf78e5b116",
     "showTitle": false,
     "title": ""
    }
   },
   "outputs": [],
   "source": [
    "from pyspark.sql.functions import col, desc"
   ]
  },
  {
   "cell_type": "code",
   "execution_count": 0,
   "metadata": {
    "application/vnd.databricks.v1+cell": {
     "cellMetadata": {
      "byteLimit": 2048000,
      "rowLimit": 10000
     },
     "inputWidgets": {},
     "nuid": "9585d8d3-c9f8-4a5f-92b2-33e3bb9f7db9",
     "showTitle": false,
     "title": ""
    }
   },
   "outputs": [],
   "source": [
    "mydf_aggr10 = mydf_aggr.orderBy(col('sum(Revenue (USD millions))').desc()).limit(10)"
   ]
  },
  {
   "cell_type": "code",
   "execution_count": 0,
   "metadata": {
    "application/vnd.databricks.v1+cell": {
     "cellMetadata": {
      "byteLimit": 2048000,
      "rowLimit": 10000
     },
     "inputWidgets": {},
     "nuid": "c5dcf528-3d06-4d05-89b6-cb1765960e82",
     "showTitle": false,
     "title": ""
    }
   },
   "outputs": [
    {
     "output_type": "stream",
     "name": "stdout",
     "output_type": "stream",
     "text": [
      "+--------------------+---------------------------+\n|            Industry|sum(Revenue (USD millions))|\n+--------------------+---------------------------+\n|          Healthcare|                    1065548|\n|  Petroleum industry|                    1010973|\n|              Retail|                     905624|\n|          Technology|                     894959|\n|          Financials|                     854099|\n|Pharmaceutical in...|                     691429|\n|        Conglomerate|                     583542|\n|General merchandi...|                     572754|\n|Retail and Cloud ...|                     469822|\n|Electronics industry|                     365817|\n+--------------------+---------------------------+\n\n"
     ]
    }
   ],
   "source": [
    "mydf_aggr10.show()"
   ]
  },
  {
   "cell_type": "code",
   "execution_count": 0,
   "metadata": {
    "application/vnd.databricks.v1+cell": {
     "cellMetadata": {
      "byteLimit": 2048000,
      "rowLimit": 10000
     },
     "inputWidgets": {},
     "nuid": "00b78323-f0a1-4938-b00a-288b7d9dea8c",
     "showTitle": false,
     "title": ""
    }
   },
   "outputs": [
    {
     "output_type": "display_data",
     "data": {
      "text/html": [
       "<style scoped>\n",
       "  .table-result-container {\n",
       "    max-height: 300px;\n",
       "    overflow: auto;\n",
       "  }\n",
       "  table, th, td {\n",
       "    border: 1px solid black;\n",
       "    border-collapse: collapse;\n",
       "  }\n",
       "  th, td {\n",
       "    padding: 5px;\n",
       "  }\n",
       "  th {\n",
       "    text-align: left;\n",
       "  }\n",
       "</style><div class='table-result-container'><table class='table-result'><thead style='background-color: white'><tr><th>Industry</th><th>sum(Revenue (USD millions))</th></tr></thead><tbody><tr><td>Healthcare</td><td>1065548</td></tr><tr><td>Petroleum industry</td><td>1010973</td></tr><tr><td>Retail</td><td>905624</td></tr><tr><td>Technology</td><td>894959</td></tr><tr><td>Financials</td><td>854099</td></tr><tr><td>Pharmaceutical industry</td><td>691429</td></tr><tr><td>Conglomerate</td><td>583542</td></tr><tr><td>General merchandisers</td><td>572754</td></tr><tr><td>Retail and Cloud Computing</td><td>469822</td></tr><tr><td>Electronics industry</td><td>365817</td></tr></tbody></table></div>"
      ]
     },
     "metadata": {
      "application/vnd.databricks.v1+output": {
       "addedWidgets": {},
       "aggData": [],
       "aggError": "",
       "aggOverflow": false,
       "aggSchema": [],
       "aggSeriesLimitReached": false,
       "aggType": "",
       "arguments": {},
       "columnCustomDisplayInfos": {},
       "data": [
        [
         "Healthcare",
         1065548
        ],
        [
         "Petroleum industry",
         1010973
        ],
        [
         "Retail",
         905624
        ],
        [
         "Technology",
         894959
        ],
        [
         "Financials",
         854099
        ],
        [
         "Pharmaceutical industry",
         691429
        ],
        [
         "Conglomerate",
         583542
        ],
        [
         "General merchandisers",
         572754
        ],
        [
         "Retail and Cloud Computing",
         469822
        ],
        [
         "Electronics industry",
         365817
        ]
       ],
       "datasetInfos": [],
       "dbfsResultPath": null,
       "isJsonSchema": true,
       "metadata": {},
       "overflow": false,
       "plotOptions": {
        "customPlotOptions": {},
        "displayType": "table",
        "pivotAggregation": null,
        "pivotColumns": null,
        "xColumns": null,
        "yColumns": null
       },
       "removedWidgets": [],
       "schema": [
        {
         "metadata": "{}",
         "name": "Industry",
         "type": "\"string\""
        },
        {
         "metadata": "{}",
         "name": "sum(Revenue (USD millions))",
         "type": "\"long\""
        }
       ],
       "type": "table"
      }
     },
     "output_type": "display_data"
    }
   ],
   "source": [
    "display(mydf_aggr10)"
   ]
  },
  {
   "cell_type": "markdown",
   "metadata": {
    "application/vnd.databricks.v1+cell": {
     "cellMetadata": {
      "byteLimit": 2048000,
      "rowLimit": 10000
     },
     "inputWidgets": {},
     "nuid": "a506fac2-d0d6-452c-a326-e01d1a9a1b43",
     "showTitle": false,
     "title": ""
    }
   },
   "source": [
    "showing the top ten companies by Revenue growth"
   ]
  },
  {
   "cell_type": "code",
   "execution_count": 0,
   "metadata": {
    "application/vnd.databricks.v1+cell": {
     "cellMetadata": {
      "byteLimit": 2048000,
      "rowLimit": 10000
     },
     "inputWidgets": {},
     "nuid": "28d600e5-5bc0-4517-9eb1-474a65d79e59",
     "showTitle": false,
     "title": ""
    }
   },
   "outputs": [],
   "source": [
    "mydf_aggr2 = mydf.groupBy('Industry').agg({'Revenue growth':'sum'})"
   ]
  },
  {
   "cell_type": "code",
   "execution_count": 0,
   "metadata": {
    "application/vnd.databricks.v1+cell": {
     "cellMetadata": {
      "byteLimit": 2048000,
      "rowLimit": 10000
     },
     "inputWidgets": {},
     "nuid": "62944466-2299-4720-9ea4-32557006915a",
     "showTitle": false,
     "title": ""
    }
   },
   "outputs": [
    {
     "output_type": "stream",
     "name": "stdout",
     "output_type": "stream",
     "text": [
      "+--------------------+-------------------+\n|            Industry|sum(Revenue growth)|\n+--------------------+-------------------+\n|General merchandi...|                2.4|\n|Aerospace and Def...|                2.5|\n|           Insurance|  80.69999999999999|\n|Automotive and En...|               70.7|\n|          Healthcare|               91.2|\n|  Financial services|                1.8|\n|           Machinery|               22.1|\n|              Metals|               81.2|\n|Consumer products...|                7.3|\n|              Health|                3.1|\n|Telecom Hardware ...|                1.0|\n|             Apparel|               19.1|\n|Airspace and defense|                8.7|\n|               Media|                3.1|\n|  Petroleum industry|              698.0|\n|       Food industry|               32.5|\n|          Automotive|                3.7|\n|        Conglomerate|               34.8|\n|Agriculture coope...|                1.4|\n|           Beverages|               17.1|\n+--------------------+-------------------+\nonly showing top 20 rows\n\n"
     ]
    }
   ],
   "source": [
    "mydf_aggr2.show()"
   ]
  },
  {
   "cell_type": "code",
   "execution_count": 0,
   "metadata": {
    "application/vnd.databricks.v1+cell": {
     "cellMetadata": {
      "byteLimit": 2048000,
      "rowLimit": 10000
     },
     "inputWidgets": {},
     "nuid": "be61834b-dd51-4493-86d4-6ebef4958649",
     "showTitle": false,
     "title": ""
    }
   },
   "outputs": [],
   "source": [
    "mydf_aggr10_revenue_growth = mydf_aggr2.orderBy(col('sum(Revenue growth)').desc()).limit(10)"
   ]
  },
  {
   "cell_type": "code",
   "execution_count": 0,
   "metadata": {
    "application/vnd.databricks.v1+cell": {
     "cellMetadata": {
      "byteLimit": 2048000,
      "rowLimit": 10000
     },
     "inputWidgets": {},
     "nuid": "2f97e2db-2602-4ccc-b593-5ed10e7e8b59",
     "showTitle": false,
     "title": ""
    }
   },
   "outputs": [
    {
     "output_type": "stream",
     "name": "stdout",
     "output_type": "stream",
     "text": [
      "+--------------------+-------------------+\n|            Industry|sum(Revenue growth)|\n+--------------------+-------------------+\n|  Petroleum industry|              698.0|\n|Pharmaceutical in...| 165.29999999999998|\n|              Retail|              136.0|\n|          Technology|              124.8|\n|          Financials|  96.00000000000001|\n|          Healthcare|               91.2|\n|              Metals|               81.2|\n|           Insurance|  80.69999999999999|\n|Automotive and En...|               70.7|\n|   Chemical industry|               42.6|\n+--------------------+-------------------+\n\n"
     ]
    }
   ],
   "source": [
    "mydf_aggr10_revenue_growth.show()"
   ]
  },
  {
   "cell_type": "markdown",
   "metadata": {
    "application/vnd.databricks.v1+cell": {
     "cellMetadata": {
      "byteLimit": 2048000,
      "rowLimit": 10000
     },
     "inputWidgets": {},
     "nuid": "96020a25-109c-4219-a08b-b8e265be3a50",
     "showTitle": false,
     "title": ""
    }
   },
   "source": [
    "showing the number of employees by state (top 10)"
   ]
  },
  {
   "cell_type": "code",
   "execution_count": 0,
   "metadata": {
    "application/vnd.databricks.v1+cell": {
     "cellMetadata": {
      "byteLimit": 2048000,
      "rowLimit": 10000
     },
     "inputWidgets": {},
     "nuid": "901783e2-24f1-4c4e-a947-b4eb00ad3e2a",
     "showTitle": false,
     "title": ""
    }
   },
   "outputs": [],
   "source": [
    "from pyspark.sql.functions import split"
   ]
  },
  {
   "cell_type": "code",
   "execution_count": 0,
   "metadata": {
    "application/vnd.databricks.v1+cell": {
     "cellMetadata": {
      "byteLimit": 2048000,
      "rowLimit": 10000
     },
     "inputWidgets": {},
     "nuid": "e562e25e-b042-4d9a-bf20-52cfe8f9224c",
     "showTitle": false,
     "title": ""
    }
   },
   "outputs": [],
   "source": [
    "mydf = mydf.withColumn('City', split(mydf['Headquarters'], ',').getItem(0)) \\\n",
    "       .withColumn('State', split(mydf['Headquarters'], ',').getItem(1))"
   ]
  },
  {
   "cell_type": "code",
   "execution_count": 0,
   "metadata": {
    "application/vnd.databricks.v1+cell": {
     "cellMetadata": {
      "byteLimit": 2048000,
      "rowLimit": 10000
     },
     "inputWidgets": {},
     "nuid": "d58500e7-e06e-4fa4-bb28-acabb1b1e5bf",
     "showTitle": false,
     "title": ""
    }
   },
   "outputs": [
    {
     "output_type": "stream",
     "name": "stdout",
     "output_type": "stream",
     "text": [
      "+----+--------------------+--------------------+----------------------+--------------+---------+--------------------+-------------+-------------+\n|Rank|                Name|            Industry|Revenue (USD millions)|Revenue growth|Employees|        Headquarters|         City|        State|\n+----+--------------------+--------------------+----------------------+--------------+---------+--------------------+-------------+-------------+\n|   1|             Walmart|General merchandi...|                572754|           2.4|  2300000|Bentonville, Arka...|  Bentonville|     Arkansas|\n|   2|              Amazon|Retail and Cloud ...|                469822|          21.7|  1608000| Seattle, Washington|      Seattle|   Washington|\n|   3|               Apple|Electronics industry|                365817|          33.2|   154000|Cupertino, Califo...|    Cupertino|   California|\n|   4|          CVS Health|          Healthcare|                292111|          32.0|   258000|Woonsocket, Rhode...|   Woonsocket| Rhode Island|\n|   5|  UnitedHealth Group|          Healthcare|                287597|          11.8|   350000|Minnetonka, Minne...|   Minnetonka|    Minnesota|\n|   6|         Exxon Mobil|  Petroleum industry|                285640|          57.4|    63000|       Spring, Texas|       Spring|        Texas|\n|   7|  Berkshire Hathaway|        Conglomerate|                276094|          12.5|   372000|     Omaha, Nebraska|        Omaha|     Nebraska|\n|   8|            Alphabet|          Technology|                257637|          41.2|   156000|Mountain View, Ca...|Mountain View|   California|\n|   9|McKesson Corporation|              Health|                238228|           3.1|    67500|       Irving, Texas|       Irving|        Texas|\n|  10|   AmerisourceBergen|Pharmaceutical in...|                213989|          12.7|    40000|Chesterbrook, Pen...| Chesterbrook| Pennsylvania|\n|  11|           Microsoft|          Technology|                198087|          17.5|   181000| Redmond, Washington|      Redmond|   Washington|\n|  12|              Costco|              Retail|                195929|          17.5|   288000|Issaquah, Washington|     Issaquah|   Washington|\n|  13|               Cigna|    Health Insurance|                174078|           8.5|    72963|Bloomfield, Conne...|   Bloomfield|  Connecticut|\n|  14|                AT&T|        Conglomerate|                168864|           1.7|   202600|       Dallas, Texas|       Dallas|        Texas|\n|  15|     Cardinal Health|          Healthcare|                162467|           6.2|    46827|        Dublin, Ohio|       Dublin|         Ohio|\n|  16| Chevron Corporation|  Petroleum industry|                162465|          71.6|    42595|San Ramon, Califo...|    San Ramon|   California|\n|  17|      The Home Depot|              Retail|                151157|          14.4|   490600|    Atlanta, Georgia|      Atlanta|      Georgia|\n|  18|Walgreens Boots A...|Pharmaceutical in...|                148579|           6.5|   258500| Deerfield, Illinois|    Deerfield|     Illinois|\n|  19|  Marathon Petroleum|  Petroleum industry|                141032|          58.5|    17700|       Findlay, Ohio|      Findlay|         Ohio|\n|  20|     Elevance Health|          Healthcare|                138639|          13.8|    98200|Indianapolis, Ind...| Indianapolis|      Indiana|\n+----+--------------------+--------------------+----------------------+--------------+---------+--------------------+-------------+-------------+\nonly showing top 20 rows\n\n"
     ]
    }
   ],
   "source": [
    "mydf.show()"
   ]
  },
  {
   "cell_type": "code",
   "execution_count": 0,
   "metadata": {
    "application/vnd.databricks.v1+cell": {
     "cellMetadata": {
      "byteLimit": 2048000,
      "rowLimit": 10000
     },
     "inputWidgets": {},
     "nuid": "1d188561-9da6-401e-bc09-9ebf14bc1ae7",
     "showTitle": false,
     "title": ""
    }
   },
   "outputs": [],
   "source": [
    "mydf_aggr3 = mydf.groupBy('State').agg({'Employees':'sum'})"
   ]
  },
  {
   "cell_type": "code",
   "execution_count": 0,
   "metadata": {
    "application/vnd.databricks.v1+cell": {
     "cellMetadata": {
      "byteLimit": 2048000,
      "rowLimit": 10000
     },
     "inputWidgets": {},
     "nuid": "6ed632a0-cf70-4d90-a456-9f564edbe0b2",
     "showTitle": false,
     "title": ""
    }
   },
   "outputs": [
    {
     "output_type": "stream",
     "name": "stdout",
     "output_type": "stream",
     "text": [
      "+-------------+--------------+\n|        State|sum(Employees)|\n+-------------+--------------+\n|     Missouri|         72500|\n| Pennsylvania|        326000|\n|         Ohio|        658738|\n|     Illinois|        840315|\n|     Arkansas|       2437000|\n|   California|       1095013|\n| Rhode Island|        258000|\n|     Virginia|        110401|\n|      Georgia|        970545|\n|    Minnesota|        891316|\n|     Kentucky|         95500|\n|     Michigan|        375700|\n|    Tennessee|        728000|\n|   New Jersey|        250116|\n|    Wisconsin|          7585|\n|     New York|       1623158|\n|   Washington|       2077000|\n|     Nebraska|        372000|\n|       Oregon|         73300|\n|         D.C.|          7400|\n+-------------+--------------+\nonly showing top 20 rows\n\n"
     ]
    }
   ],
   "source": [
    "mydf_aggr3.show()"
   ]
  },
  {
   "cell_type": "code",
   "execution_count": 0,
   "metadata": {
    "application/vnd.databricks.v1+cell": {
     "cellMetadata": {
      "byteLimit": 2048000,
      "rowLimit": 10000
     },
     "inputWidgets": {},
     "nuid": "5f4924dc-3fe5-4718-9482-c11519f077fe",
     "showTitle": false,
     "title": ""
    }
   },
   "outputs": [],
   "source": [
    "mydf_aggr10_employees = mydf_aggr3.orderBy(col('sum(Employees)').desc()).limit(10)"
   ]
  },
  {
   "cell_type": "code",
   "execution_count": 0,
   "metadata": {
    "application/vnd.databricks.v1+cell": {
     "cellMetadata": {
      "byteLimit": 2048000,
      "rowLimit": 10000
     },
     "inputWidgets": {},
     "nuid": "19d2a657-3a9b-4d1e-b5e7-aec35afa6a66",
     "showTitle": false,
     "title": ""
    }
   },
   "outputs": [
    {
     "output_type": "stream",
     "name": "stdout",
     "output_type": "stream",
     "text": [
      "+--------------+--------------+\n|         State|sum(Employees)|\n+--------------+--------------+\n|      Arkansas|       2437000|\n|    Washington|       2077000|\n|      New York|       1623158|\n|    California|       1095013|\n|       Georgia|        970545|\n| Massachusetts|        966000|\n|     Minnesota|        891316|\n|         Texas|        849708|\n|      Illinois|        840315|\n|     Tennessee|        728000|\n+--------------+--------------+\n\n"
     ]
    }
   ],
   "source": [
    "mydf_aggr10_employees.show()"
   ]
  }
 ],
 "metadata": {
  "application/vnd.databricks.v1+notebook": {
   "dashboards": [
    {
     "elements": [
      {
       "dashboardResultIndex": 0,
       "elementNUID": "00b78323-f0a1-4938-b00a-288b7d9dea8c",
       "elementType": "command",
       "guid": "5e2dbc47-81b0-4fa3-afc3-2502a91da23f",
       "options": null,
       "position": {
        "height": 6,
        "width": 12,
        "x": 0,
        "y": 0,
        "z": null
       },
       "resultIndex": null
      }
     ],
     "globalVars": {},
     "guid": "743f802b-7e15-427f-902d-0b69a15a46b7",
     "layoutOption": {
      "grid": true,
      "stack": true
     },
     "nuid": "8ef40e23-0c1f-474a-b038-f250f51223f0",
     "origId": 971282802592206,
     "title": "Untitled",
     "version": "DashboardViewV1",
     "width": 1024
    }
   ],
   "language": "python",
   "notebookMetadata": {
    "pythonIndentUnit": 4
   },
   "notebookName": "Transformations",
   "widgets": {}
  }
 },
 "nbformat": 4,
 "nbformat_minor": 0
}
